{
 "cells": [
  {
   "cell_type": "code",
   "execution_count": null,
   "metadata": {
    "colab": {
     "base_uri": "https://localhost:8080/"
    },
    "id": "_8BgyoPRCzue",
    "outputId": "d8c4b31f-b1b2-4672-ae28-10f1213049c7"
   },
   "outputs": [
    {
     "name": "stdout",
     "output_type": "stream",
     "text": [
      "(25000, 500) (25000, 500)\n",
      "(25000,) (25000,)\n",
      "Model: \"sequential_15\"\n",
      "_________________________________________________________________\n",
      " Layer (type)                Output Shape              Param #   \n",
      "=================================================================\n",
      " embedding_15 (Embedding)    (None, 500, 32)           160000    \n",
      "                                                                 \n",
      " flatten_15 (Flatten)        (None, 16000)             0         \n",
      "                                                                 \n",
      " dense_28 (Dense)            (None, 250)               4000250   \n",
      "                                                                 \n",
      " dense_29 (Dense)            (None, 1)                 251       \n",
      "                                                                 \n",
      "=================================================================\n",
      "Total params: 4,160,501\n",
      "Trainable params: 4,160,501\n",
      "Non-trainable params: 0\n",
      "_________________________________________________________________\n",
      "Epoch 1/2\n",
      "196/196 [==============================] - 35s 175ms/step - loss: 0.4891 - accuracy: 0.7314 - val_loss: 0.3103 - val_accuracy: 0.8657\n",
      "Epoch 2/2\n",
      "196/196 [==============================] - 29s 149ms/step - loss: 0.1733 - accuracy: 0.9363 - val_loss: 0.3214 - val_accuracy: 0.8685\n",
      "782/782 [==============================] - 9s 12ms/step - loss: 0.3214 - accuracy: 0.8685\n",
      "Accuracy: 86.85%\n"
     ]
    }
   ],
   "source": [
    "# MLP for the IMDB problem\n",
    "from tensorflow.keras.datasets import imdb\n",
    "from tensorflow.keras.models import Sequential\n",
    "from tensorflow.keras.layers import Dense, Flatten, Embedding\n",
    "from tensorflow.keras.preprocessing import sequence\n",
    "# load the dataset but only keep the top n words, zero the rest\n",
    "top_words = 5000\n",
    "(X_train, y_train), (X_test, y_test) = imdb.load_data(num_words=top_words)\n",
    "max_words = 500\n",
    "X_train = sequence.pad_sequences(X_train, maxlen=max_words)\n",
    "X_test = sequence.pad_sequences(X_test, maxlen=max_words)\n",
    "print(X_train.shape, X_test.shape)\n",
    "print(y_train.shape, y_test.shape)\n",
    "# create the model\n",
    "model = Sequential()\n",
    "model.add(Embedding(input_dim=top_words, output_dim=32, input_length=max_words))\n",
    "model.add(Flatten())\n",
    "model.add(Dense(units=250, activation='relu'))\n",
    "model.add(Dense(units=1, activation='sigmoid'))\n",
    "model.compile(loss='binary_crossentropy', optimizer='adam', metrics=['accuracy'])\n",
    "model.summary()\n",
    "# Fit the model\n",
    "model.fit(X_train, y_train, validation_data=(X_test, y_test), epochs=2, batch_size=128, verbose=1)\n",
    "# Final evaluation of the model\n",
    "scores = model.evaluate(X_test, y_test, verbose=1)\n",
    "print(\"Accuracy: %.2f%%\" % (scores[1]*100))"
   ]
  }
 ],
 "metadata": {
  "colab": {
   "provenance": []
  },
  "kernelspec": {
   "display_name": "Python 3 (ipykernel)",
   "language": "python",
   "name": "python3"
  },
  "language_info": {
   "codemirror_mode": {
    "name": "ipython",
    "version": 3
   },
   "file_extension": ".py",
   "mimetype": "text/x-python",
   "name": "python",
   "nbconvert_exporter": "python",
   "pygments_lexer": "ipython3",
   "version": "3.9.15"
  }
 },
 "nbformat": 4,
 "nbformat_minor": 4
}
